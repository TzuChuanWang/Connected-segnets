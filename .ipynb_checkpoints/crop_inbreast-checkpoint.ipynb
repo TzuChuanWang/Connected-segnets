{
 "cells": [
  {
   "cell_type": "markdown",
   "id": "13c5cb06",
   "metadata": {},
   "source": [
    "# rename"
   ]
  },
  {
   "cell_type": "code",
   "execution_count": 6,
   "id": "2621e23e",
   "metadata": {},
   "outputs": [
    {
     "name": "stdout",
     "output_type": "stream",
     "text": [
      "path： E:/Alldata/inbreast/image_107/\n",
      "directory： []\n",
      "file1： ['20586908_6c613a14b80a8591_MG_R_CC_ANON.jpg', '20586934_6c613a14b80a8591_MG_L_CC_ANON.jpg', '20586960_6c613a14b80a8591_MG_R_ML_ANON.jpg', '20586986_6c613a14b80a8591_MG_L_ML_ANON.jpg', '20587612_f4b2d377f43ba0bd_MG_R_CC_ANON.jpg', '20587664_f4b2d377f43ba0bd_MG_R_ML_ANON.jpg', '20587758_81cd83d2f4d78528_MG_L_CC_ANON.jpg', '20587810_81cd83d2f4d78528_MG_L_ML_ANON.jpg', '20587902_8dbbd4e51f549ff0_MG_R_CC_ANON.jpg', '20587928_8dbbd4e51f549ff0_MG_R_ML_ANON.jpg', '20587994_024ee3569b2605dc_MG_R_CC_ANON.jpg', '20588046_024ee3569b2605dc_MG_R_ML_ANON.jpg', '20588190_8d0b9620c53c0268_MG_L_CC_ANON.jpg', '20588216_8d0b9620c53c0268_MG_L_ML_ANON.jpg', '20588308_493155e17143edef_MG_L_ML_ANON.jpg', '20588334_493155e17143edef_MG_L_CC_ANON.jpg', '20588536_bf1a6aaadb05e3df_MG_L_ML_ANON.jpg', '20588562_bf1a6aaadb05e3df_MG_L_CC_ANON.jpg', '20588680_036aff49b8ac84f0_MG_L_ML_ANON.jpg', '22427705_d713ef5849f98b6c_MG_L_CC_ANON.jpg', '22427751_d713ef5849f98b6c_MG_L_ML_ANON.jpg', '22427840_bbd6a3a35438c11b_MG_R_CC_ANON.jpg', '22579730_bbd6a3a35438c11b_MG_R_ML_ANON.jpg', '22580038_6200187f3f1ccc18_MG_L_CC_ANON.jpg', '22580098_6200187f3f1ccc18_MG_L_ML_ANON.jpg', '22580192_5530d5782fc89dd7_MG_R_CC_ANON.jpg', '22580244_5530d5782fc89dd7_MG_R_ML_ANON.jpg', '22580341_5eae9beae14d26fd_MG_R_CC_ANON.jpg', '22580367_5eae9beae14d26fd_MG_L_CC_ANON.jpg', '22580393_5eae9beae14d26fd_MG_R_ML_ANON.jpg', '22580419_5eae9beae14d26fd_MG_L_ML_ANON.jpg', '22580654_fe7d005dcbbfb46d_MG_R_CC_ANON.jpg', '22580680_fe7d005dcbbfb46d_MG_L_CC_ANON.jpg', '22580706_fe7d005dcbbfb46d_MG_R_ML_ANON.jpg', '22580732_fe7d005dcbbfb46d_MG_L_ML_ANON.jpg', '22613650_dcafa6ba6374ec07_MG_L_CC_ANON.jpg', '22613702_dcafa6ba6374ec07_MG_L_ML_ANON.jpg', '22613770_45c7f44839fd9e68_MG_R_CC_ANON.jpg', '22613822_45c7f44839fd9e68_MG_R_ML_ANON.jpg', '22614074_6bd24a0a42c19ce1_MG_R_CC_ANON.jpg', '22614127_6bd24a0a42c19ce1_MG_R_ML_ANON.jpg', '22614236_1e5c3af078f74b05_MG_L_CC_ANON.jpg', '22614266_1e5c3af078f74b05_MG_L_ML_ANON.jpg', '22614379_d065adcb9905b973_MG_L_CC_ANON.jpg', '22614431_d065adcb9905b973_MG_L_ML_ANON.jpg', '22614522_2dec4948fbe6336d_MG_L_CC_ANON.jpg', '22614568_2dec4948fbe6336d_MG_L_ML_ANON.jpg', '22670094_e1f51192f7bf3f5f_MG_R_CC_ANON.jpg', '22670147_e1f51192f7bf3f5f_MG_R_ML_ANON.jpg', '22670278_98429c0bdf78c0c7_MG_R_CC_ANON.jpg', '22670324_98429c0bdf78c0c7_MG_R_ML_ANON.jpg', '22670465_7e677f3d530e41ed_MG_L_CC_ANON.jpg', '22670511_7e677f3d530e41ed_MG_L_ML_ANON.jpg', '22670620_e15a16f87b4f9782_MG_R_CC_ANON.jpg', '22670673_e15a16f87b4f9782_MG_R_ML_ANON.jpg', '22670809_0b7396cdccacca82_MG_R_CC_ANON.jpg', '22670855_0b7396cdccacca82_MG_R_ML_ANON.jpg', '22678646_61b13c59bcba149e_MG_L_CC_ANON.jpg', '22678694_61b13c59bcba149e_MG_L_ML_ANON.jpg', '22678787_64a22c47765f0c5c_MG_R_CC_ANON.jpg', '22678833_64a22c47765f0c5c_MG_R_ML_ANON.jpg', '24055274_1e10aef17c9fe149_MG_L_ML_ANON.jpg', '24055355_1e10aef17c9fe149_MG_L_CC_ANON.jpg', '24055445_ac3185e18ffdc7b6_MG_L_ML_ANON.jpg', '24055464_ac3185e18ffdc7b6_MG_R_ML_ANON.jpg', '24055483_ac3185e18ffdc7b6_MG_L_CC_ANON.jpg', '24055502_ac3185e18ffdc7b6_MG_R_CC_ANON.jpg', '24065251_c4b995eddb3c510c_MG_L_ML_ANON.jpg', '24065289_c4b995eddb3c510c_MG_L_CC_ANON.jpg', '24065530_d8205a09c8173f44_MG_L_ML_ANON.jpg', '24065584_d8205a09c8173f44_MG_L_CC_ANON.jpg', '24065707_5291e1aee2bbf5df_MG_R_ML_ANON.jpg', '24065761_5291e1aee2bbf5df_MG_R_CC_ANON.jpg', '27829134_fbb55bf7fff48540_MG_R_CC_ANON.jpg', '27829188_fbb55bf7fff48540_MG_R_ML_ANON.jpg', '30011507_349323117bf0fd93_MG_L_CC_ANON.jpg', '30011553_349323117bf0fd93_MG_L_ML_ANON.jpg', '30011674_6968748e66837bc7_MG_L_CC_ANON.jpg', '30011727_6968748e66837bc7_MG_L_ML_ANON.jpg', '50994273_cc9e66c5b31baab8_MG_R_CC_ANON.jpg', '50994354_cc9e66c5b31baab8_MG_R_ML_ANON.jpg', '50994408_cc9e66c5b31baab8_MG_R_CC_ANON.jpg', '50995762_0c735e8768d276b4_MG_R_ML_ANON.jpg', '50995789_0c735e8768d276b4_MG_R_CC_ANON.jpg', '50996352_6aba0b402889a16f_MG_R_ML_ANON.jpg', '50996406_6aba0b402889a16f_MG_R_CC_ANON.jpg', '50997461_97ec8cadfca70d32_MG_R_ML_ANON.jpg', '50997515_97ec8cadfca70d32_MG_R_CC_ANON.jpg', '50998981_a78eba834ef6ee88_MG_R_ML_ANON.jpg', '50999008_a78eba834ef6ee88_MG_R_CC_ANON.jpg', '50999432_f62fbf38fb208316_MG_L_ML_ANON.jpg', '50999459_f62fbf38fb208316_MG_L_CC_ANON.jpg', '51048738_3f22cdda8da215e3_MG_R_ML_ANON.jpg', '51048765_3f22cdda8da215e3_MG_R_CC_ANON.jpg', '51049053_8c105bb715bf1c3c_MG_L_ML_ANON.jpg', '51049107_8c105bb715bf1c3c_MG_L_CC_ANON.jpg', '53580804_51bec6477a7898b9_MG_L_ML_ANON.jpg', '53580858_51bec6477a7898b9_MG_L_CC_ANON.jpg', '53581406_b231a8ba4dd4214f_MG_R_ML_ANON.jpg', '53581460_b231a8ba4dd4214f_MG_R_CC_ANON.jpg', '53582656_465aa5ec1b59efc6_MG_L_ML_ANON.jpg', '53582683_465aa5ec1b59efc6_MG_L_CC_ANON.jpg', '53586869_6ac23356b912ee9b_MG_L_ML_ANON.jpg', '53586896_6ac23356b912ee9b_MG_L_CC_ANON.jpg', '53586960_809e3f43339f93c6_MG_L_ML_ANON.jpg', '53587014_809e3f43339f93c6_MG_L_CC_ANON.jpg', '53587663_5fb370d4c1c71974_MG_R_CC_ANON.jpg']\n"
     ]
    }
   ],
   "source": [
    "import os\n",
    "from PIL import Image, ImageDraw, ImageChops\n",
    "yourPath = 'E:/Alldata/inbreast/image_107/'\n",
    "allList = os.walk(yourPath)\n",
    "for root, dirs, files in allList:\n",
    "    print(\"path：\", root)#   列出目前讀取到的路徑\n",
    "    print(\"directory：\", dirs)#   列出在這個路徑下讀取到的資料夾(第一層讀完才會讀第二層)    \n",
    "    print(\"file1：\", files)#   列出在這個路徑下讀取到的所有檔案\n",
    "    filename_list = []\n",
    "    filename_list = files\n",
    "    \n",
    "filename_list    \n",
    "for file_name in filename_list:\n",
    "    img_name_temp = file_name.split(\"_\")\n",
    "    original_img = Image.open('E:/Alldata/inbreast/image_107/'+file_name)\n",
    "    original_img.save(\"./temp/renameimg/\"+img_name_temp[0]+\".png\")\n",
    "    \n",
    "    #print('success'+img_name_temp[0])    "
   ]
  },
  {
   "cell_type": "code",
   "execution_count": 1,
   "id": "77002b8b",
   "metadata": {},
   "outputs": [],
   "source": [
    "import cv2\n",
    "import os"
   ]
  },
  {
   "cell_type": "code",
   "execution_count": 2,
   "id": "1a9524a4",
   "metadata": {},
   "outputs": [],
   "source": [
    "def get_bound(maskImage):\n",
    "    o = cv2.cvtColor(maskImage, cv2.COLOR_BGR2GRAY)\n",
    "    ret, binary = cv2.threshold(o, 127, 255, cv2.THRESH_BINARY)\n",
    "    (cnts, _) = cv2.findContours(binary, cv2.RETR_EXTERNAL, cv2.CHAIN_APPROX_SIMPLE)\n",
    "    for c in cnts:\n",
    "        M = cv2.moments(c)\n",
    "        (x, y, w, h) = cv2.boundingRect(c)\n",
    "#         print(x, y, w, h)\n",
    "#     middle_x = int((x+x + w) /2)\n",
    "#     middle_y = int((y+y + h) /2)\n",
    "    return x, y, w, h"
   ]
  },
  {
   "cell_type": "code",
   "execution_count": 3,
   "id": "c854baac",
   "metadata": {},
   "outputs": [],
   "source": [
    "def split_image(image, mask):\n",
    "    x, y, w, h = get_bound(mask)\n",
    "    if (w < 512 or h < 512):\n",
    "        middle_x = int((x+x + w) /2)\n",
    "        middle_y = int((y+y + h) /2)\n",
    "        #print(middle_x)\n",
    "        #print(middle_y)\n",
    "        if middle_x + 256 >  mask.shape[1]:\n",
    "            left_x = mask.shape[1] - 512\n",
    "            #print(\"there\")\n",
    "        else :\n",
    "            left_x = middle_x - 256\n",
    "            left_x = max(0, left_x)\n",
    "            #print(\"there2\")\n",
    "        if middle_y + 256 >  mask.shape[0]:\n",
    "            left_y = mask.shape[0] - 512\n",
    "            #print(\"there3\")\n",
    "        else :\n",
    "            left_y = middle_y - 256\n",
    "            left_y = max(0, left_y)\n",
    "            #print(\"there4\")\n",
    "        #print(left_x)\n",
    "        #print(left_y)\n",
    "        subImage = image[left_y: left_y+512, left_x: left_x+512, :]\n",
    "        subMask = mask[left_y: left_y+512, left_x: left_x+512, :]\n",
    "    else:\n",
    "        subImage = image[y: y+h, x: x+w, :]\n",
    "        subMask = mask[y: y+h, x: x+w, :]\n",
    "        #print(\"there5\")\n",
    "    return subImage, subMask"
   ]
  },
  {
   "cell_type": "code",
   "execution_count": 8,
   "id": "df48b43d",
   "metadata": {},
   "outputs": [],
   "source": [
    "maskes = os.listdir('./temp/renamelabel')\n",
    "images = os.listdir('./temp/renameimg')\n",
    "for i in range(len(maskes)):\n",
    "    mask = cv2.imread(os.path.join('./temp/renamelabel', maskes[i]))\n",
    "    image = cv2.imread(os.path.join('./temp/renameimg', images[i]))\n",
    "    subImage, subMask = split_image(image, mask)\n",
    "    try:\n",
    "        cv2.imwrite(os.path.join('./croponly/label512/', maskes[i]), subMask)\n",
    "        cv2.imwrite(os.path.join('./croponly/image512/', maskes[i]), subImage)\n",
    "    except:\n",
    "        print(maskes[i])"
   ]
  },
  {
   "cell_type": "code",
   "execution_count": 10,
   "id": "68792bfe",
   "metadata": {},
   "outputs": [
    {
     "name": "stdout",
     "output_type": "stream",
     "text": [
      "['22580706.png', '20586908.png', '24065530.png', '22580098.png', '20588216.png', '53581460.png', '22580654.png', '27829134.png', '50994354.png', '22670809.png', '53580858.png', '22678787.png', '53587663.png', '22580244.png', '22670855.png', '50997461.png', '20587994.png', '22670278.png', '22613650.png', '22580192.png', '50999459.png', '22678833.png', '20586986.png', '51049107.png', '24055502.png', '22427751.png', '53582683.png', '53581406.png', '22580038.png', '20586934.png', '22580393.png', '20588680.png', '50996352.png', '20588536.png', '22614568.png', '50996406.png', '22580732.png', '30011727.png', '20587902.png', '53586896.png', '53586869.png', '22678646.png', '22613770.png', '22613702.png', '50998981.png', '24065761.png', '20588190.png', '20587810.png', '20588046.png', '22613822.png', '53586960.png', '20588308.png', '22670147.png', '22580367.png', '51049053.png', '24065707.png', '22580419.png', '22580680.png', '20586960.png', '22614522.png', '22678694.png', '22614431.png', '22670324.png', '22670465.png', '30011553.png', '22670511.png', '22427705.png', '24055464.png', '27829188.png', '24065251.png', '22579730.png', '50995789.png', '50994408.png', '24055483.png', '50994273.png', '22614379.png', '22614236.png', '50999432.png', '24065289.png', '22614266.png', '22580341.png', '53580804.png', '50999008.png', '53587014.png', '20588562.png', '22614074.png', '20588334.png', '51048765.png', '50995762.png', '22670673.png']\n"
     ]
    }
   ],
   "source": [
    "import os, random, shutil\n",
    "def copyFile(fileDir):\n",
    "        pathDir = os.listdir(fileDir)    #取圖片的原始路徑\n",
    "        filenumber=len(pathDir)\n",
    "        rate=0.85    #自定義抽取圖片的比例，比方說100張抽10張，那就是0.1\n",
    "        picknumber=int(filenumber*rate) #按照rate比例從資料夾中取一定數量圖片\n",
    "        sample = random.sample(pathDir, picknumber)  #隨機選取picknumber數量的樣本圖片\n",
    "        print (sample)\n",
    "        for name in sample:\n",
    "                shutil.copy(fileDir+name, tarDir+name)\n",
    "        return\n",
    "\n",
    "if __name__ == '__main__':\n",
    "    fileDir = \"./croponly/image512/\"    #源圖片資料夾路徑\n",
    "    tarDir = \"./croponly/train/imagefortrain90/\"    #移動到新的資料夾路徑\n",
    "    copyFile(fileDir)"
   ]
  },
  {
   "cell_type": "code",
   "execution_count": 11,
   "id": "3c61805b",
   "metadata": {},
   "outputs": [
    {
     "name": "stdout",
     "output_type": "stream",
     "text": [
      "path： ./croponly/train/imagefortrain90/\n",
      "directory： []\n",
      "file1： ['20586908.png', '20586934.png', '20586960.png', '20586986.png', '20587810.png', '20587902.png', '20587994.png', '20588046.png', '20588190.png', '20588216.png', '20588308.png', '20588334.png', '20588536.png', '20588562.png', '20588680.png', '22427705.png', '22427751.png', '22579730.png', '22580038.png', '22580098.png', '22580192.png', '22580244.png', '22580341.png', '22580367.png', '22580393.png', '22580419.png', '22580654.png', '22580680.png', '22580706.png', '22580732.png', '22613650.png', '22613702.png', '22613770.png', '22613822.png', '22614074.png', '22614236.png', '22614266.png', '22614379.png', '22614431.png', '22614522.png', '22614568.png', '22670147.png', '22670278.png', '22670324.png', '22670465.png', '22670511.png', '22670673.png', '22670809.png', '22670855.png', '22678646.png', '22678694.png', '22678787.png', '22678833.png', '24055464.png', '24055483.png', '24055502.png', '24065251.png', '24065289.png', '24065530.png', '24065707.png', '24065761.png', '27829134.png', '27829188.png', '30011553.png', '30011727.png', '50994273.png', '50994354.png', '50994408.png', '50995762.png', '50995789.png', '50996352.png', '50996406.png', '50997461.png', '50998981.png', '50999008.png', '50999432.png', '50999459.png', '51048765.png', '51049053.png', '51049107.png', '53580804.png', '53580858.png', '53581406.png', '53581460.png', '53582683.png', '53586869.png', '53586896.png', '53586960.png', '53587014.png', '53587663.png']\n"
     ]
    }
   ],
   "source": [
    "# import os\n",
    "from PIL import Image, ImageDraw, ImageChops\n",
    "yourPath = './croponly/train/imagefortrain90/'\n",
    "allList = os.walk(yourPath)\n",
    "for root, dirs, files in allList:\n",
    "    print(\"path：\", root)#   列出目前讀取到的路徑\n",
    "    print(\"directory：\", dirs)#   列出在這個路徑下讀取到的資料夾(第一層讀完才會讀第二層)    \n",
    "    print(\"file1：\", files)#   列出在這個路徑下讀取到的所有檔案\n",
    "    filename_list = []\n",
    "    filename_list = files    \n",
    "\n",
    "for file_name in filename_list:    \n",
    "    shutil.copy('./croponly/label512/'+file_name, './croponly/train/maskfortrain90/'+file_name)\n",
    "    #print('success'+img_name_temp[0])    "
   ]
  },
  {
   "cell_type": "markdown",
   "id": "20526173",
   "metadata": {},
   "source": [
    "# 找沒被選到的"
   ]
  },
  {
   "cell_type": "code",
   "execution_count": 12,
   "id": "2816f680",
   "metadata": {},
   "outputs": [],
   "source": [
    "cmp1 = os.listdir('./croponly/image512/')\n",
    "cmp2 = os.listdir('./croponly/train/imagefortrain90/')\n",
    "for i in range(len(cmp1)):\n",
    "    ori = cv2.imread(os.path.join('./croponly/image512/', cmp1[i]))\n",
    "    ori_mask = cv2.imread(os.path.join('./croponly/label512/', cmp1[i]))\n",
    "    try:\n",
    "        new = cv2.imread(os.path.join('./croponly/train/imagefortrain90/', cmp2[i]))\n",
    "    except:\n",
    "        cv2.imwrite(os.path.join('./croponly/test/image/', cmp1[i]), ori)\n",
    "        cv2.imwrite(os.path.join('./croponly/test/label/', cmp1[i]), ori_mask)"
   ]
  },
  {
   "cell_type": "code",
   "execution_count": 13,
   "id": "5193f7f6",
   "metadata": {},
   "outputs": [
    {
     "name": "stdout",
     "output_type": "stream",
     "text": [
      "path： ./croponly/test/label/\n",
      "directory： []\n",
      "file： ['50999432.png', '50999459.png', '51048738.png', '51048765.png', '51049053.png', '51049107.png', '53580804.png', '53580858.png', '53581406.png', '53581460.png', '53582656.png', '53582683.png', '53586869.png', '53586896.png', '53586960.png', '53587014.png', '53587663.png']\n"
     ]
    }
   ],
   "source": [
    "from PIL import Image, ImageDraw, ImageChops\n",
    "yourPath = './croponly/test/label/'\n",
    "allList = os.walk(yourPath)\n",
    "for root, dirs, files in allList:\n",
    "    print(\"path：\", root)#   列出目前讀取到的路徑\n",
    "    print(\"directory：\", dirs)#   列出在這個路徑下讀取到的資料夾(第一層讀完才會讀第二層)    \n",
    "    print(\"file：\", files)#   列出在這個路徑下讀取到的所有檔案\n",
    "    filename_list = []\n",
    "    filename_list = files\n",
    "    \n",
    "i=0    \n",
    "for file_name in filename_list:\n",
    "    original_img = Image.open('./croponly/test/image/'+file_name)\n",
    "    original_mask = Image.open('./croponly/test/label/'+file_name)\n",
    "    new_img=original_img.convert('L') \n",
    "    new_mask= original_mask.convert('L')\n",
    "\n",
    "    new_img.save('./croponly/test/imgpng/'+ str(i) +'.png')\n",
    "    new_mask.save('./croponly/test/labelpng/'+ str(i) +'.png')\n",
    "    i=i+1"
   ]
  },
  {
   "cell_type": "markdown",
   "id": "2375cc8a",
   "metadata": {},
   "source": [
    "# 檢查資料是否正常"
   ]
  },
  {
   "cell_type": "code",
   "execution_count": 7,
   "id": "923cac54",
   "metadata": {},
   "outputs": [],
   "source": [
    "cmp1 = os.listdir('E:/Alldata/inbreast/temp/renamelabel/')\n",
    "cmp2 = os.listdir('E:/Alldata/inbreast/temp/renameimg/')\n",
    "for i in range(len(cmp1)):\n",
    "    name = cmp1[i].split(\"_\")\n",
    "    ori = cv2.imread(os.path.join('E:/Alldata/inbreast/temp/renamelabel/', cmp1[i]))\n",
    "    ori_mask = cv2.imread(os.path.join('E:/Alldata/inbreast/temp/renameimg/', cmp1[i]))\n",
    "    try:\n",
    "        if(ori.shape[1] != ori_mask.shape[1]):\n",
    "            print(cmp1[i])\n",
    "        else:\n",
    "            if(ori.shape[0] != ori_mask.shape[0]):\n",
    "                print(cmp1[i])\n",
    "            #else:\n",
    "            #    cv2.imwrite(os.path.join('./correct/image/', cmp1[i]), ori)\n",
    "            #    cv2.imwrite(os.path.join('./correct/label/', cmp1[i]), ori_mask)\n",
    "    except:\n",
    "        print(\"except: \",cmp1[i])"
   ]
  },
  {
   "cell_type": "code",
   "execution_count": null,
   "id": "b7812003",
   "metadata": {},
   "outputs": [],
   "source": []
  }
 ],
 "metadata": {
  "kernelspec": {
   "display_name": "Python 3 (ipykernel)",
   "language": "python",
   "name": "python3"
  },
  "language_info": {
   "codemirror_mode": {
    "name": "ipython",
    "version": 3
   },
   "file_extension": ".py",
   "mimetype": "text/x-python",
   "name": "python",
   "nbconvert_exporter": "python",
   "pygments_lexer": "ipython3",
   "version": "3.8.12"
  }
 },
 "nbformat": 4,
 "nbformat_minor": 5
}
